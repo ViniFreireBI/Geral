{
 "cells": [
  {
   "cell_type": "markdown",
   "metadata": {},
   "source": [
    "Seja bem vindo ao jogo de adivinhação numérico de 0 a 50"
   ]
  },
  {
   "cell_type": "code",
   "execution_count": 2,
   "metadata": {},
   "outputs": [
    {
     "name": "stdout",
     "output_type": "stream",
     "text": [
      "Adivinhe um número de 0 a 50 em 10 tentativas, atenção para as dicas ao errar. Insira a primeira tentativa abaixo:\n",
      "25\n",
      "Errrrrrroooouuu\n",
      "A opção correta é maior que 25\n",
      "Tente novamente\n",
      "37\n",
      "Errrrrrroooouuu\n",
      "A opção correta é maior que 37\n",
      "Tente novamente\n",
      "44\n",
      "A opção correta é menor que 44\n",
      "Tente novamente\n",
      "40\n",
      "Errrrrrroooouuu\n",
      "A opção correta é menor que 40\n",
      "Tente novamente\n",
      "38\n",
      "Errrrrrroooouuu\n",
      "A opção correta é maior que 38\n",
      "Tente novamente\n",
      "39\n",
      "Acertô miseravi\n"
     ]
    }
   ],
   "source": [
    "import numpy as np\n",
    "\n",
    "opcao_correta= np.random.randint(1,51)\n",
    "Qtde_tentativas = 1\n",
    "\n",
    "print('Adivinhe um número de 0 a 50 em 10 tentativas, atenção para as dicas ao errar. Insira a primeira tentativa abaixo:')\n",
    "\n",
    "tentativa = int(input ())\n",
    "\n",
    "while Qtde_tentativas <= 9:\n",
    "\n",
    "  if tentativa == opcao_correta:\n",
    "    print('Acertô miseravi')\n",
    "    break\n",
    "    Qtde_tentativas = Qtde_tentativas + 1\n",
    "  else:\n",
    "    print('Errrrrrroooouuu')\n",
    "    Qtde_tentativas = Qtde_tentativas + 1\n",
    "    if tentativa < opcao_correta:\n",
    "      print('A opção correta é maior que ' + str(tentativa))\n",
    "      print('Tente novamente')\n",
    "      tentativa = int(input ())\n",
    "    if tentativa > opcao_correta:\n",
    "      print('A opção correta é menor que ' + str(tentativa))\n",
    "      print('Tente novamente')\n",
    "      tentativa = int(input ())\n",
    "    else:\n",
    "        if Qtde_tentativas == 10:\n",
    "          print('Você excedeu a quantidade de tentativas, tente novamente desde o inicio')"
   ]
  }
 ],
 "metadata": {
  "kernelspec": {
   "display_name": "Python 3",
   "language": "python",
   "name": "python3"
  },
  "language_info": {
   "codemirror_mode": {
    "name": "ipython",
    "version": 3
   },
   "file_extension": ".py",
   "mimetype": "text/x-python",
   "name": "python",
   "nbconvert_exporter": "python",
   "pygments_lexer": "ipython3",
   "version": "3.8.5"
  }
 },
 "nbformat": 4,
 "nbformat_minor": 4
}
