{
 "cells": [
  {
   "cell_type": "markdown",
   "metadata": {},
   "source": [
    "Exemplo de API simples para coletar o preço de compra do dolar, euro e bitcoin que sofre uma atualização a cada 30 segundos. Abaixo segue o link com documentação:\n",
    "https://docs.awesomeapi.com.br/api-de-moedas#codigos-das-moedas"
   ]
  },
  {
   "cell_type": "code",
   "execution_count": 26,
   "metadata": {},
   "outputs": [],
   "source": [
    "#Importando as bibliotecas necessárias\n",
    "import requests\n",
    "import json"
   ]
  },
  {
   "cell_type": "code",
   "execution_count": 27,
   "metadata": {},
   "outputs": [
    {
     "name": "stdout",
     "output_type": "stream",
     "text": [
      "Dolar 5.2305\n"
     ]
    }
   ],
   "source": [
    "#Extraindo os dados\n",
    "cotacoes = requests.get(\"https://economia.awesomeapi.com.br/last/USD-BRL,EUR-BRL,BTC-BRL\")\n",
    "#Convertendo o output para json\n",
    "cotacoes = cotacoes.json()\n",
    "#Localizando a cotação do Dolar para compra\n",
    "cotacao_dolar = cotacoes['USDBRL']['bid']\n",
    "print('Dolar', cotacao_dolar)"
   ]
  },
  {
   "cell_type": "code",
   "execution_count": 28,
   "metadata": {},
   "outputs": [
    {
     "name": "stdout",
     "output_type": "stream",
     "text": [
      "Euro 6.1691\n"
     ]
    }
   ],
   "source": [
    "#Extraindo os dados\n",
    "cotacoes = requests.get(\"https://economia.awesomeapi.com.br/last/USD-BRL,EUR-BRL,BTC-BRL\")\n",
    "#Convertendo o output para json\n",
    "cotacoes = cotacoes.json()\n",
    "#Localizando a cotação do Euro para compra\n",
    "cotacao_euro = cotacoes['EURBRL']['bid']\n",
    "print('Euro', cotacao_euro)"
   ]
  },
  {
   "cell_type": "code",
   "execution_count": 29,
   "metadata": {},
   "outputs": [
    {
     "name": "stdout",
     "output_type": "stream",
     "text": [
      "Bitcoin 181.898\n"
     ]
    }
   ],
   "source": [
    "#Extraindo os dados\n",
    "cotacoes = requests.get(\"https://economia.awesomeapi.com.br/last/USD-BRL,EUR-BRL,BTC-BRL\")\n",
    "#Convertendo o output para json\n",
    "cotacoes = cotacoes.json()\n",
    "#Localizando a cotação do Bitcoin para compra\n",
    "cotacao_bitcoin = cotacoes['BTCBRL']['bid']\n",
    "print('Bitcoin', cotacao_bitcoin)"
   ]
  },
  {
   "cell_type": "code",
   "execution_count": null,
   "metadata": {},
   "outputs": [],
   "source": []
  }
 ],
 "metadata": {
  "kernelspec": {
   "display_name": "Python 3",
   "language": "python",
   "name": "python3"
  },
  "language_info": {
   "codemirror_mode": {
    "name": "ipython",
    "version": 3
   },
   "file_extension": ".py",
   "mimetype": "text/x-python",
   "name": "python",
   "nbconvert_exporter": "python",
   "pygments_lexer": "ipython3",
   "version": "3.8.5"
  }
 },
 "nbformat": 4,
 "nbformat_minor": 4
}
